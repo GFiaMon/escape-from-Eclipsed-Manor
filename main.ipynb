{
 "cells": [
  {
   "cell_type": "markdown",
   "metadata": {},
   "source": [
    "# Haunted Mansion Project\n",
    "\n",
    "Welcome to the Haunted Mansion Project! This project aims to create an immersive and interactive experience that simulates a haunted mansion. The project covers the following aspects:\n",
    "\n",
    "1. **Storyline Development**: Crafting a compelling and spooky storyline to engage the audience.\n",
    "2. **Character Design**: Creating detailed and eerie characters that enhance the haunted atmosphere.\n",
    "3. **Environment Creation**: Designing a haunted mansion environment with realistic and chilling elements.\n",
    "4. **Sound Design**: Incorporating creepy sound effects and music to heighten the suspense and fear.\n",
    "5. **Interactive Elements**: Adding interactive features that allow users to explore and interact with the haunted mansion.\n",
    "6. **User Experience**: Ensuring a seamless and immersive experience for the users.\n",
    "\n",
    "By the end of this project, you will have a fully developed haunted mansion experience that can be enjoyed by users. Let's dive into the world of ghosts and ghouls!"
   ]
  },
  {
   "cell_type": "code",
   "execution_count": 70,
   "metadata": {},
   "outputs": [],
   "source": [
    "# All rooms\n",
    "\n",
    "rooms = {\n",
    "    'Foyer': {\n",
    "        'description': 'A dimly lit entrance hall with a grand staircase.',\n",
    "        'connections': ['Library', 'Dining Room'],\n",
    "        'items': []\n",
    "    },\n",
    "    'Library': {\n",
    "        'description': 'Walls lined with ancient books. A cold draft chills you.',\n",
    "        'connections': ['Foyer'],\n",
    "        'items': ['Silver Key']\n",
    "    },\n",
    "    'Dining Room': {\n",
    "        'description': 'An elegant dining room with an old chandelier.',\n",
    "        'connections': ['Foyer', 'Kitchen'],\n",
    "        'items': []\n",
    "    },\n",
    "    'Kitchen': {\n",
    "        'description': 'A dark kitchen filled with strange smells.',\n",
    "        'connections': ['Dining Room'],\n",
    "        'items': ['Flashlight']\n",
    "    },\n",
    "    # Additional rooms...\n",
    "}\n",
    "\n",
    "items = {\n",
    "    \"Silver Key\": {\n",
    "        \"name\": \"Silver Key\",\n",
    "        \"description\": \"What could this key be for?\"\n",
    "    },\n",
    "    \"Flashslight\": {\n",
    "        \"name\": \"Flashlight\",\n",
    "        \"description\": \"Makes light\"\n",
    "    }\n",
    "}\n",
    "\n"
   ]
  },
  {
   "cell_type": "code",
   "execution_count": 71,
   "metadata": {},
   "outputs": [],
   "source": [
    "# classes initialisation\n",
    "\n",
    "class Room:\n",
    "    def __init__(self, name, description):\n",
    "        self.name = name\n",
    "        self.description = description\n",
    "        self.connections = []\n",
    "        self.items = []\n",
    "\n",
    "    def describe_room(self):\n",
    "        print(f\"{self.description}. This must be the {self.name}.\")\n",
    "        if self.items:\n",
    "            print(f\"The following item(s) are in the room:\")\n",
    "            for item in self.items:\n",
    "                print(\"- \"+item)\n",
    "        print(f\"The room seems to be connected to:\")\n",
    "        for connection in self.connections:\n",
    "            print(\"- \"+connection.name)\n",
    "        print(\"To interact with the above, type their name\")\n",
    "        return\n",
    "\n",
    "    def __str__(self):\n",
    "        return f\"Room Object: {self.name}\"\n",
    "    \n",
    "    def __repr__(self):\n",
    "        return f\"Room(name={self.name!r})\"\n",
    "\n",
    "class Item:\n",
    "    def __init__(self, name, description):\n",
    "        self.name = name\n",
    "        self.description = description\n",
    "\n",
    "class Player:\n",
    "    def __init__(self):\n",
    "        self.current_room = None\n",
    "        self.inventory = []\n",
    "        self.escaped = False\n",
    "\n",
    "    def move(self, new_room):\n",
    "        self.current_room = new_room"
   ]
  },
  {
   "cell_type": "code",
   "execution_count": 72,
   "metadata": {},
   "outputs": [],
   "source": [
    "rooms_objects = {}\n",
    "\n",
    "# initialise rooms\n",
    "# dictionaroy of rooms to store Room instances of that room\n",
    "for room in rooms:\n",
    "    rooms_objects[room] = Room(room, rooms[room][\"description\"])"
   ]
  },
  {
   "cell_type": "code",
   "execution_count": 73,
   "metadata": {},
   "outputs": [],
   "source": [
    "# initialise items\n",
    "items_objects = {}\n",
    "\n",
    "for item in items:\n",
    "    items_objects[item] = Item(item, items[item][\"description\"])"
   ]
  },
  {
   "cell_type": "code",
   "execution_count": 74,
   "metadata": {},
   "outputs": [],
   "source": [
    "# establish connections\n",
    "for room in rooms:\n",
    "    for connection in rooms[room][\"connections\"]:\n",
    "        rooms_objects[room].connections.append(rooms_objects[connection])\n",
    "\n",
    "    for item in rooms[room][\"items\"]:\n",
    "        rooms_objects[room].items.append(item)"
   ]
  },
  {
   "cell_type": "code",
   "execution_count": 75,
   "metadata": {},
   "outputs": [],
   "source": [
    "player = Player()\n",
    "#set starting room\n",
    "player.current_room = rooms_objects[\"Foyer\"]\n"
   ]
  },
  {
   "cell_type": "code",
   "execution_count": 79,
   "metadata": {},
   "outputs": [
    {
     "name": "stdout",
     "output_type": "stream",
     "text": [
      "Welcome. This is what you have to do\n",
      "A dimly lit entrance hall with a grand staircase.. This must be the Foyer.\n",
      "The room seems to be connected to:\n",
      "- Library\n",
      "- Dining Room\n",
      "To interact with the above, type their name\n",
      "You are know in the following location: Library\n",
      "Walls lined with ancient books. A cold draft chills you.. This must be the Library.\n",
      "The following item(s) are in the room:\n",
      "- Silver Key\n",
      "The room seems to be connected to:\n",
      "- Foyer\n",
      "To interact with the above, type their name\n",
      "You are know in the following location: Foyer\n",
      "A dimly lit entrance hall with a grand staircase.. This must be the Foyer.\n",
      "The room seems to be connected to:\n",
      "- Library\n",
      "- Dining Room\n",
      "To interact with the above, type their name\n",
      "A dimly lit entrance hall with a grand staircase.. This must be the Foyer.\n",
      "The room seems to be connected to:\n",
      "- Library\n",
      "- Dining Room\n",
      "To interact with the above, type their name\n",
      "Invalied Move\n",
      "Invalied Move\n",
      "Invalied Move\n"
     ]
    }
   ],
   "source": [
    "# start game\n",
    "print(\"Welcome. This is what you have to do\")\n",
    "\n",
    "# while not exited:\n",
    "while not player.escaped:\n",
    "    answer = input(\"What should i do?\")\n",
    "    if answer == \"quit\":\n",
    "        break\n",
    "    # do stuff\n",
    "    # look around\n",
    "    if answer == \"scout\":\n",
    "        # scout = player.scout(player.current_room)\n",
    "        player.current_room.describe_room()\n",
    "\n",
    "    # move if room is given\n",
    "    if answer in rooms_objects.keys():\n",
    "        # check if it is a valid connection\n",
    "        if rooms_objects[answer] not in player.current_room.connections:\n",
    "            print(\"Invalied Move\")\n",
    "        else:\n",
    "            # move player to answer room\n",
    "            player.move(rooms_objects[answer])\n",
    "            print(f\"You are know in the following location: {answer}\")"
   ]
  },
  {
   "cell_type": "code",
   "execution_count": 69,
   "metadata": {},
   "outputs": [
    {
     "name": "stdout",
     "output_type": "stream",
     "text": [
      "False\n"
     ]
    }
   ],
   "source": [
    "if rooms_objects[\"Library\"] not in rooms_objects[\"Foyer\"].connections:\n",
    "    print(True)\n",
    "else:\n",
    "    print(False)"
   ]
  },
  {
   "cell_type": "code",
   "execution_count": 76,
   "metadata": {},
   "outputs": [
    {
     "data": {
      "text/plain": [
       "[Room(name='Library'), Room(name='Dining Room')]"
      ]
     },
     "execution_count": 76,
     "metadata": {},
     "output_type": "execute_result"
    }
   ],
   "source": [
    "rooms_objects[\"Foyer\"].connections"
   ]
  },
  {
   "cell_type": "code",
   "execution_count": 92,
   "metadata": {},
   "outputs": [
    {
     "ename": "TypeError",
     "evalue": "__init__() takes 3 positional arguments but 5 were given",
     "output_type": "error",
     "traceback": [
      "\u001b[1;31m---------------------------------------------------------------------------\u001b[0m",
      "\u001b[1;31mTypeError\u001b[0m                                 Traceback (most recent call last)",
      "Cell \u001b[1;32mIn[92], line 1\u001b[0m\n\u001b[1;32m----> 1\u001b[0m foyer \u001b[38;5;241m=\u001b[39m \u001b[43mRoom\u001b[49m\u001b[43m(\u001b[49m\u001b[38;5;124;43m\"\u001b[39;49m\u001b[38;5;124;43mFoyer\u001b[39;49m\u001b[38;5;124;43m\"\u001b[39;49m\u001b[43m,\u001b[49m\u001b[43m \u001b[49m\u001b[43mrooms\u001b[49m\u001b[43m[\u001b[49m\u001b[38;5;124;43m\"\u001b[39;49m\u001b[38;5;124;43mFoyer\u001b[39;49m\u001b[38;5;124;43m\"\u001b[39;49m\u001b[43m]\u001b[49m\u001b[43m[\u001b[49m\u001b[38;5;124;43m\"\u001b[39;49m\u001b[38;5;124;43mdescription\u001b[39;49m\u001b[38;5;124;43m\"\u001b[39;49m\u001b[43m]\u001b[49m\u001b[43m,\u001b[49m\u001b[43m \u001b[49m\u001b[43mrooms\u001b[49m\u001b[43m[\u001b[49m\u001b[38;5;124;43m\"\u001b[39;49m\u001b[38;5;124;43mFoyer\u001b[39;49m\u001b[38;5;124;43m\"\u001b[39;49m\u001b[43m]\u001b[49m\u001b[43m[\u001b[49m\u001b[38;5;124;43m\"\u001b[39;49m\u001b[38;5;124;43mconnections\u001b[39;49m\u001b[38;5;124;43m\"\u001b[39;49m\u001b[43m]\u001b[49m\u001b[43m,\u001b[49m\u001b[43m \u001b[49m\u001b[43mrooms\u001b[49m\u001b[43m[\u001b[49m\u001b[38;5;124;43m\"\u001b[39;49m\u001b[38;5;124;43mFoyer\u001b[39;49m\u001b[38;5;124;43m\"\u001b[39;49m\u001b[43m]\u001b[49m\u001b[43m[\u001b[49m\u001b[38;5;124;43m\"\u001b[39;49m\u001b[38;5;124;43mitems\u001b[39;49m\u001b[38;5;124;43m\"\u001b[39;49m\u001b[43m]\u001b[49m\u001b[43m)\u001b[49m\n\u001b[0;32m      2\u001b[0m \u001b[38;5;66;03m# kitchen = Room(\"Kitchen\", rooms[\"Kitchen\"][\"description\"])\u001b[39;00m\n\u001b[0;32m      3\u001b[0m \u001b[38;5;66;03m# dining_room = Room(\"Dining Room\", rooms[\"Dining Room\"][\"description\"])\u001b[39;00m\n\u001b[0;32m      4\u001b[0m library \u001b[38;5;241m=\u001b[39m Room(\u001b[38;5;124m\"\u001b[39m\u001b[38;5;124mLibrary\u001b[39m\u001b[38;5;124m\"\u001b[39m, rooms[\u001b[38;5;124m\"\u001b[39m\u001b[38;5;124mLibrary\u001b[39m\u001b[38;5;124m\"\u001b[39m][\u001b[38;5;124m\"\u001b[39m\u001b[38;5;124mdescription\u001b[39m\u001b[38;5;124m\"\u001b[39m], rooms[\u001b[38;5;124m\"\u001b[39m\u001b[38;5;124mLibrary\u001b[39m\u001b[38;5;124m\"\u001b[39m][\u001b[38;5;124m\"\u001b[39m\u001b[38;5;124mconnections\u001b[39m\u001b[38;5;124m\"\u001b[39m], rooms[\u001b[38;5;124m\"\u001b[39m\u001b[38;5;124mLibrary\u001b[39m\u001b[38;5;124m\"\u001b[39m][\u001b[38;5;124m\"\u001b[39m\u001b[38;5;124mitems\u001b[39m\u001b[38;5;124m\"\u001b[39m])\n",
      "\u001b[1;31mTypeError\u001b[0m: __init__() takes 3 positional arguments but 5 were given"
     ]
    }
   ],
   "source": [
    "foyer = Room(\"Foyer\", rooms[\"Foyer\"][\"description\"], rooms[\"Foyer\"][\"connections\"], rooms[\"Foyer\"][\"items\"])\n",
    "# kitchen = Room(\"Kitchen\", rooms[\"Kitchen\"][\"description\"])\n",
    "# dining_room = Room(\"Dining Room\", rooms[\"Dining Room\"][\"description\"])\n",
    "library = Room(\"Library\", rooms[\"Library\"][\"description\"], rooms[\"Library\"][\"connections\"], rooms[\"Library\"][\"items\"])\n"
   ]
  },
  {
   "cell_type": "code",
   "execution_count": 93,
   "metadata": {},
   "outputs": [
    {
     "ename": "NameError",
     "evalue": "name 'foyer' is not defined",
     "output_type": "error",
     "traceback": [
      "\u001b[1;31m---------------------------------------------------------------------------\u001b[0m",
      "\u001b[1;31mNameError\u001b[0m                                 Traceback (most recent call last)",
      "Cell \u001b[1;32mIn[93], line 1\u001b[0m\n\u001b[1;32m----> 1\u001b[0m \u001b[43mfoyer\u001b[49m\u001b[38;5;241m.\u001b[39mconnections\n",
      "\u001b[1;31mNameError\u001b[0m: name 'foyer' is not defined"
     ]
    }
   ],
   "source": [
    "foyer.connections"
   ]
  },
  {
   "cell_type": "code",
   "execution_count": 94,
   "metadata": {},
   "outputs": [
    {
     "ename": "NameError",
     "evalue": "name 'library' is not defined",
     "output_type": "error",
     "traceback": [
      "\u001b[1;31m---------------------------------------------------------------------------\u001b[0m",
      "\u001b[1;31mNameError\u001b[0m                                 Traceback (most recent call last)",
      "Cell \u001b[1;32mIn[94], line 1\u001b[0m\n\u001b[1;32m----> 1\u001b[0m \u001b[43mlibrary\u001b[49m\u001b[38;5;241m.\u001b[39mconnections\n",
      "\u001b[1;31mNameError\u001b[0m: name 'library' is not defined"
     ]
    }
   ],
   "source": [
    "library.connections"
   ]
  },
  {
   "cell_type": "code",
   "execution_count": 96,
   "metadata": {},
   "outputs": [
    {
     "data": {
      "text/plain": [
       "{'Foyer': Room(name='Foyer'),\n",
       " 'Library': Room(name='Library'),\n",
       " 'Dining Room': Room(name='Dining Room'),\n",
       " 'Kitchen': Room(name='Kitchen')}"
      ]
     },
     "execution_count": 96,
     "metadata": {},
     "output_type": "execute_result"
    }
   ],
   "source": [
    "rooms_objects"
   ]
  },
  {
   "cell_type": "code",
   "execution_count": 99,
   "metadata": {},
   "outputs": [
    {
     "data": {
      "text/plain": [
       "'Room Object: Library'"
      ]
     },
     "execution_count": 99,
     "metadata": {},
     "output_type": "execute_result"
    }
   ],
   "source": [
    "str(rooms_objects[\"Foyer\"].connections[0])"
   ]
  },
  {
   "cell_type": "code",
   "execution_count": null,
   "metadata": {},
   "outputs": [],
   "source": []
  }
 ],
 "metadata": {
  "kernelspec": {
   "display_name": "datasci_env",
   "language": "python",
   "name": "python3"
  },
  "language_info": {
   "codemirror_mode": {
    "name": "ipython",
    "version": 3
   },
   "file_extension": ".py",
   "mimetype": "text/x-python",
   "name": "python",
   "nbconvert_exporter": "python",
   "pygments_lexer": "ipython3",
   "version": "3.8.20"
  }
 },
 "nbformat": 4,
 "nbformat_minor": 2
}
