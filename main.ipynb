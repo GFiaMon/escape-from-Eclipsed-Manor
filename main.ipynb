{
 "cells": [
  {
   "cell_type": "markdown",
   "metadata": {},
   "source": [
    "# Haunted Mansion Project\n",
    "\n",
    "Welcome to the Haunted Mansion Project! This project aims to create an immersive and interactive experience that simulates a haunted mansion. The project covers the following aspects:\n",
    "\n",
    "1. **Storyline Development**: Crafting a compelling and spooky storyline to engage the audience.\n",
    "2. **Character Design**: Creating detailed and eerie characters that enhance the haunted atmosphere.\n",
    "3. **Environment Creation**: Designing a haunted mansion environment with realistic and chilling elements.\n",
    "4. **Sound Design**: Incorporating creepy sound effects and music to heighten the suspense and fear.\n",
    "5. **Interactive Elements**: Adding interactive features that allow users to explore and interact with the haunted mansion.\n",
    "6. **User Experience**: Ensuring a seamless and immersive experience for the users.\n",
    "\n",
    "By the end of this project, you will have a fully developed haunted mansion experience that can be enjoyed by users. Let's dive into the world of ghosts and ghouls!"
   ]
  },
  {
   "cell_type": "code",
   "execution_count": 46,
   "metadata": {},
   "outputs": [],
   "source": [
    "# All rooms\n",
    "\n",
    "rooms = {\n",
    "    'Foyer': {\n",
    "        'description': 'A dimly lit entrance hall with a grand staircase.',\n",
    "        'connections': ['Library', 'Dining Room'],\n",
    "        'items': []\n",
    "    },\n",
    "    'Library': {\n",
    "        'description': 'Walls lined with ancient books. A cold draft chills you.',\n",
    "        'connections': ['Foyer', 'Study'],\n",
    "        'items': ['Silver Key']\n",
    "    },\n",
    "    'Dining Room': {\n",
    "        'description': 'An elegant dining room with an old chandelier.',\n",
    "        'connections': ['Foyer', 'Kitchen'],\n",
    "        'items': []\n",
    "    },\n",
    "    'Kitchen': {\n",
    "        'description': 'A dark kitchen filled with strange smells.',\n",
    "        'connections': ['Dining Room', 'Basement'],\n",
    "        'items': ['Flashlight']\n",
    "    },\n",
    "    # Additional rooms...\n",
    "}\n",
    "\n"
   ]
  },
  {
   "cell_type": "code",
   "execution_count": 96,
   "metadata": {},
   "outputs": [],
   "source": [
    "# classes initialisation\n",
    "\n",
    "class Room:\n",
    "    def __init__(self, name, description, connections, items):\n",
    "        self.name = name\n",
    "        self.description = description\n",
    "        self.connections = connections\n",
    "        self.items = items\n",
    "\n",
    "class Item:\n",
    "    def __init__(self, name, description):\n",
    "        self.name = name\n",
    "        self.description = description\n",
    "\n",
    "class Player:\n",
    "    def __init__(self):\n",
    "        self.current_room = \"None\"\n",
    "        self.inventory = []\n",
    "\n",
    "    def move(self, new_room):\n",
    "        # Logic for moving between rooms\n",
    "        pass\n",
    "\n"
   ]
  },
  {
   "cell_type": "code",
   "execution_count": 99,
   "metadata": {},
   "outputs": [],
   "source": [
    "foyer = Room(\"Foyer\", rooms[\"Foyer\"][\"description\"], rooms[\"Foyer\"][\"connections\"], rooms[\"Foyer\"][\"items\"])\n",
    "# kitchen = Room(\"Kitchen\", rooms[\"Kitchen\"][\"description\"])\n",
    "# dining_room = Room(\"Dining Room\", rooms[\"Dining Room\"][\"description\"])\n",
    "library = Room(\"Library\", rooms[\"Library\"][\"description\"], rooms[\"Library\"][\"connections\"], rooms[\"Library\"][\"items\"])\n"
   ]
  },
  {
   "cell_type": "code",
   "execution_count": 98,
   "metadata": {},
   "outputs": [
    {
     "data": {
      "text/plain": [
       "['Library', 'Dining Room']"
      ]
     },
     "execution_count": 98,
     "metadata": {},
     "output_type": "execute_result"
    }
   ],
   "source": [
    "foyer.connections"
   ]
  },
  {
   "cell_type": "code",
   "execution_count": 100,
   "metadata": {},
   "outputs": [
    {
     "data": {
      "text/plain": [
       "['Foyer', 'Study']"
      ]
     },
     "execution_count": 100,
     "metadata": {},
     "output_type": "execute_result"
    }
   ],
   "source": [
    "library.connections"
   ]
  },
  {
   "cell_type": "code",
   "execution_count": null,
   "metadata": {},
   "outputs": [],
   "source": [
    "# rooms_objects = {}\n",
    "\n",
    "# for room in rooms:\n",
    "#     rooms_objects[room] = Room(rooms[room], rooms[room][\"description\"])"
   ]
  },
  {
   "cell_type": "code",
   "execution_count": 39,
   "metadata": {},
   "outputs": [
    {
     "data": {
      "text/plain": [
       "{'description': 'A dark kitchen filled with strange smells.',\n",
       " 'connections': ['Dining Room', 'Basement'],\n",
       " 'items': ['Flashlight']}"
      ]
     },
     "execution_count": 39,
     "metadata": {},
     "output_type": "execute_result"
    }
   ],
   "source": [
    "martijn = Player()\n",
    "martijn.current_room = room1\n",
    "martijn.current_room.name\n"
   ]
  },
  {
   "cell_type": "code",
   "execution_count": null,
   "metadata": {},
   "outputs": [],
   "source": [
    "# pseudcode\n",
    "\n",
    "# initialise everything\n",
    "# imports..\n",
    "\n",
    "# start game\n",
    "# write explanation on what to do\n",
    "# while not exited:\n",
    "    # do stuff\n",
    "    # look around\n",
    "    # move\n",
    "\n",
    "\n",
    "\n",
    "\n",
    "\n",
    "\n",
    "\n",
    "\n",
    "\n",
    "\n",
    "\n",
    "# move meachnic\n",
    "\n",
    "# look around in room\n",
    "# peek at door\n",
    "# there seems to be a library. Want to enter library\n",
    "# there seems to be a door to the library\n"
   ]
  }
 ],
 "metadata": {
  "kernelspec": {
   "display_name": "datasci_env",
   "language": "python",
   "name": "python3"
  },
  "language_info": {
   "codemirror_mode": {
    "name": "ipython",
    "version": 3
   },
   "file_extension": ".py",
   "mimetype": "text/x-python",
   "name": "python",
   "nbconvert_exporter": "python",
   "pygments_lexer": "ipython3",
   "version": "3.8.20"
  }
 },
 "nbformat": 4,
 "nbformat_minor": 2
}
