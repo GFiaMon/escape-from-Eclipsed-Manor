{
 "cells": [
  {
   "cell_type": "markdown",
   "metadata": {},
   "source": [
    "# Haunted Mansion Project\n",
    "\n",
    "Welcome to the Haunted Mansion Project! This project aims to create an immersive and interactive experience that simulates a haunted mansion. The project covers the following aspects:\n",
    "\n",
    "1. **Storyline Development**: Crafting a compelling and spooky storyline to engage the audience.\n",
    "2. **Character Design**: Creating detailed and eerie characters that enhance the haunted atmosphere.\n",
    "3. **Environment Creation**: Designing a haunted mansion environment with realistic and chilling elements.\n",
    "4. **Sound Design**: Incorporating creepy sound effects and music to heighten the suspense and fear.\n",
    "5. **Interactive Elements**: Adding interactive features that allow users to explore and interact with the haunted mansion.\n",
    "6. **User Experience**: Ensuring a seamless and immersive experience for the users.\n",
    "\n",
    "By the end of this project, you will have a fully developed haunted mansion experience that can be enjoyed by users. Let's dive into the world of ghosts and ghouls!"
   ]
  },
  {
   "cell_type": "code",
   "execution_count": 1,
   "metadata": {},
   "outputs": [],
   "source": [
    "# All rooms\n",
    "\n",
    "rooms = {\n",
    "    'Foyer': {\n",
    "        'description': 'A dimly lit entrance hall with a grand staircase.',\n",
    "        'connections': ['Library', 'Dining Room'],\n",
    "        'items': []\n",
    "    },\n",
    "    'Library': {\n",
    "        'description': 'Walls lined with ancient books. A cold draft chills you.',\n",
    "        'connections': ['Foyer', 'Study'],\n",
    "        'items': ['Silver Key']\n",
    "    },\n",
    "    'Dining Room': {\n",
    "        'description': 'An elegant dining room with an old chandelier.',\n",
    "        'connections': ['Foyer', 'Kitchen'],\n",
    "        'items': []\n",
    "    },\n",
    "    'Kitchen': {\n",
    "        'description': 'A dark kitchen filled with strange smells.',\n",
    "        'connections': ['Dining Room', 'Basement'],\n",
    "        'items': ['Flashlight']\n",
    "    },\n",
    "    # Additional rooms...\n",
    "}\n",
    "\n"
   ]
  },
  {
   "cell_type": "code",
   "execution_count": 4,
   "metadata": {},
   "outputs": [],
   "source": [
    "# classes initialisation\n",
    "\n",
    "class Room:\n",
    "    def __init__(self, name, description):\n",
    "        self.name = name\n",
    "        self.description = description\n",
    "        self.connections = []\n",
    "        self.items = []\n",
    "\n",
    "class Item:\n",
    "    def __init__(self, name, description):\n",
    "        self.name = name\n",
    "        self.description = description\n",
    "\n",
    "class Player:\n",
    "    def __init__(self):\n",
    "        self.current_room = None\n",
    "        self.inventory = []\n",
    "\n",
    "    def move(self, new_room):\n",
    "        # Logic for moving between rooms\n",
    "        pass\n",
    "\n"
   ]
  },
  {
   "cell_type": "code",
   "execution_count": 6,
   "metadata": {},
   "outputs": [
    {
     "name": "stdout",
     "output_type": "stream",
     "text": [
      "Foyer\n",
      "Library\n",
      "Dining Room\n",
      "Kitchen\n"
     ]
    }
   ],
   "source": [
    "for room in rooms:  # rooms is the dictionary\n",
    "    print(room)\n"
   ]
  },
  {
   "cell_type": "code",
   "execution_count": 8,
   "metadata": {},
   "outputs": [
    {
     "name": "stdout",
     "output_type": "stream",
     "text": [
      "A dimly lit entrance hall with a grand staircase.\n",
      "Walls lined with ancient books. A cold draft chills you.\n",
      "An elegant dining room with an old chandelier.\n",
      "A dark kitchen filled with strange smells.\n"
     ]
    }
   ],
   "source": [
    "for room in rooms:  # rooms is the dictionary\n",
    "    print(rooms[room]['description'])"
   ]
  },
  {
   "cell_type": "code",
   "execution_count": 3,
   "metadata": {},
   "outputs": [],
   "source": [
    " def move(self, new_room):\n",
    "        # Logic for moving between rooms\n",
    "        pass"
   ]
  }
 ],
 "metadata": {
  "kernelspec": {
   "display_name": "datasci_env",
   "language": "python",
   "name": "python3"
  },
  "language_info": {
   "codemirror_mode": {
    "name": "ipython",
    "version": 3
   },
   "file_extension": ".py",
   "mimetype": "text/x-python",
   "name": "python",
   "nbconvert_exporter": "python",
   "pygments_lexer": "ipython3",
   "version": "3.8.20"
  }
 },
 "nbformat": 4,
 "nbformat_minor": 2
}
