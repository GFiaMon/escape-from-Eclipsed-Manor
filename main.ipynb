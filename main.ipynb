{
 "cells": [
  {
   "cell_type": "markdown",
   "metadata": {},
   "source": [
    "# Haunted Mansion Project\n",
    "\n",
    "Welcome to the Haunted Mansion Project! This project aims to create an immersive and interactive experience that simulates a haunted mansion. The project covers the following aspects:\n",
    "\n",
    "1. **Storyline Development**: Crafting a compelling and spooky storyline to engage the audience.\n",
    "2. **Character Design**: Creating detailed and eerie characters that enhance the haunted atmosphere.\n",
    "3. **Environment Creation**: Designing a haunted mansion environment with realistic and chilling elements.\n",
    "4. **Sound Design**: Incorporating creepy sound effects and music to heighten the suspense and fear.\n",
    "5. **Interactive Elements**: Adding interactive features that allow users to explore and interact with the haunted mansion.\n",
    "6. **User Experience**: Ensuring a seamless and immersive experience for the users.\n",
    "\n",
    "By the end of this project, you will have a fully developed haunted mansion experience that can be enjoyed by users. Let's dive into the world of ghosts and ghouls!"
   ]
  },
  {
   "cell_type": "code",
   "execution_count": 18,
   "metadata": {},
   "outputs": [
    {
     "ename": "ImportError",
     "evalue": "cannot import name 'keys' from 'game_setup' (g:\\My Drive\\Ironhack\\escape-from-Eclipsed-Manor\\game_setup.py)",
     "output_type": "error",
     "traceback": [
      "\u001b[1;31m---------------------------------------------------------------------------\u001b[0m",
      "\u001b[1;31mImportError\u001b[0m                               Traceback (most recent call last)",
      "Cell \u001b[1;32mIn[18], line 1\u001b[0m\n\u001b[1;32m----> 1\u001b[0m \u001b[38;5;28;01mfrom\u001b[39;00m \u001b[38;5;21;01mgame_setup\u001b[39;00m \u001b[38;5;28;01mimport\u001b[39;00m rooms, items, doors, keys \u001b[38;5;66;03m# I tried to keep the file cleaner so i moved the variables to another file called \"game_setup.py\" and imported them\u001b[39;00m\n",
      "\u001b[1;31mImportError\u001b[0m: cannot import name 'keys' from 'game_setup' (g:\\My Drive\\Ironhack\\escape-from-Eclipsed-Manor\\game_setup.py)"
     ]
    }
   ],
   "source": [
    "from game_setup import rooms, items, doors, keys # I tried to keep the file cleaner so i moved the variables to another file called \"game_setup.py\" and imported them"
   ]
  },
  {
   "cell_type": "code",
   "execution_count": 10,
   "metadata": {},
   "outputs": [],
   "source": [
    "# classes initialisation\n",
    "\n",
    "class Room:\n",
    "    def __init__(self, name, description):\n",
    "        self.name = name\n",
    "        self.description = description\n",
    "        self.connections = []\n",
    "        self.items = []\n",
    "\n",
    "    def describe_room(self):\n",
    "        if self.items:\n",
    "            print(f\"The following item(s) are in the room:\")\n",
    "            for item in self.items:\n",
    "                print(\"- \"+str(item))\n",
    "        print(\"To interact with the above, type their name\")\n",
    "        return\n",
    "\n",
    "    def __str__(self):\n",
    "        return f\"Room Object: {self.name}\"\n",
    "    \n",
    "    def __repr__(self):\n",
    "        return f\"Room(name={self.name!r})\"\n",
    "\n",
    "class Item:\n",
    "    def __init__(self, name, description):\n",
    "        self.name = name\n",
    "        self.description = description\n",
    "\n",
    "    def inspect(self):\n",
    "        # need to make unique cases for special items\n",
    "        print(self.description)\n",
    "        return self\n",
    "\n",
    "    def __str__(self):\n",
    "        return f\"{self.name}\"\n",
    "\n",
    "    def __repr__(self):\n",
    "        return f\"Item(name={self.name!r})\"\n",
    "\n",
    "class Door(Item):\n",
    "    def __init__(self, name, description, room1, room2, locked):\n",
    "        super().__init__(name, description)\n",
    "        self.room1 = room1\n",
    "        self.room2 = room2\n",
    "        self.locked = locked\n",
    "\n",
    "    def __repr__(self):\n",
    "        return f\"Door(name={self.name!r})\"\n",
    "    \n",
    "class Key(Item):\n",
    "    def __init__(self, name, description):\n",
    "        super().__init__(name, description)\n",
    "\n",
    "class Furniture(Item):\n",
    "    def __init__(self, name, description):\n",
    "        super().__init__(name, description)\n",
    "    \n",
    "class Player:\n",
    "    def __init__(self):\n",
    "        self.current_room = None\n",
    "        self.inventory = []\n",
    "        self.escaped = False\n",
    "\n",
    "    def move(self, door):\n",
    "        # check the connections of the door and adjust the location to the room wich is not the current one\n",
    "        if self.current_room == door.room1:\n",
    "            self.current_room = door.room2\n",
    "        else:\n",
    "            self.current_room = door.room1\n",
    "        print(f\"{self.current_room.description}. This must be the {self.current_room.name}.\")\n",
    "\n",
    "    def show_inventory(self):\n",
    "        print(\"The following items are in your inventory:\")\n",
    "        for item in self.inventory:\n",
    "            print(str(item))\n"
   ]
  },
  {
   "cell_type": "code",
   "execution_count": 11,
   "metadata": {},
   "outputs": [
    {
     "data": {
      "text/plain": [
       "{'Foyer': {'description': 'A dimly lit entrance hall with a grand staircase.',\n",
       "  'items': ['Smelly Key']},\n",
       " 'Library': {'description': 'Walls lined with ancient books. A cold draft chills you.',\n",
       "  'items': ['Silver Key']},\n",
       " 'Dining Room': {'description': 'An elegant dining room with an old chandelier.',\n",
       "  'items': ['Bloody Hammer']},\n",
       " 'Kitchen': {'description': 'A dark kitchen filled with strange smells.',\n",
       "  'items': ['Wooden Box', 'Flashlight']},\n",
       " 'Exit': {'description': 'You made it', 'items': []}}"
      ]
     },
     "execution_count": 11,
     "metadata": {},
     "output_type": "execute_result"
    }
   ],
   "source": [
    "rooms"
   ]
  },
  {
   "cell_type": "code",
   "execution_count": 12,
   "metadata": {},
   "outputs": [
    {
     "ename": "NameError",
     "evalue": "name 'keys' is not defined",
     "output_type": "error",
     "traceback": [
      "\u001b[1;31m---------------------------------------------------------------------------\u001b[0m",
      "\u001b[1;31mNameError\u001b[0m                                 Traceback (most recent call last)",
      "Cell \u001b[1;32mIn[12], line 13\u001b[0m\n\u001b[0;32m     10\u001b[0m     items_objects[item] \u001b[38;5;241m=\u001b[39m Furniture(item, items[item][\u001b[38;5;124m\"\u001b[39m\u001b[38;5;124mdescription\u001b[39m\u001b[38;5;124m\"\u001b[39m])\n\u001b[0;32m     12\u001b[0m \u001b[38;5;66;03m# dictionaroy of keys to store Key instances of each key\u001b[39;00m\n\u001b[1;32m---> 13\u001b[0m \u001b[38;5;28;01mfor\u001b[39;00m key \u001b[38;5;129;01min\u001b[39;00m \u001b[43mkeys\u001b[49m:\n\u001b[0;32m     14\u001b[0m     items_objects[key] \u001b[38;5;241m=\u001b[39m Key(item, items[item][\u001b[38;5;124m\"\u001b[39m\u001b[38;5;124mdescription\u001b[39m\u001b[38;5;124m\"\u001b[39m])\n\u001b[0;32m     16\u001b[0m \u001b[38;5;66;03m# add items to rooms\u001b[39;00m\n",
      "\u001b[1;31mNameError\u001b[0m: name 'keys' is not defined"
     ]
    }
   ],
   "source": [
    "rooms_objects = {}\n",
    "items_objects = {}\n",
    "\n",
    "# dictionaroy of rooms to store Room instances of each room\n",
    "for room in rooms:\n",
    "    rooms_objects[room] = Room(room, rooms[room][\"description\"])\n",
    "\n",
    "# dictionaroy of items to store Items instances of each item\n",
    "for item in items:\n",
    "    items_objects[item] = Furniture(item, items[item][\"description\"])\n",
    "\n",
    "# dictionaroy of keys to store Key instances of each key\n",
    "for key in keys:\n",
    "    items_objects[key] = Key(item, items[item][\"description\"])\n",
    "\n",
    "# add items to rooms\n",
    "for room in rooms:\n",
    "    for item in rooms[room][\"items\"]:\n",
    "        rooms_objects[room].items.append(items_objects[item])\n",
    "\n",
    "# dictionaroy of doors to store Door instance of each door\n",
    "for door in doors:\n",
    "    items_objects[door] = Door(door, doors[door][\"description\"], \n",
    "                               rooms_objects[doors[door][\"connections\"][0]], # get the room object of the first room that is connected with the door\n",
    "                               rooms_objects[doors[door][\"connections\"][1]], # get the room object of the second room\n",
    "                               doors[door][\"locked\"])\n",
    "    \n",
    "# add room connections to rooms based on doors connections (later used to verify play move input)\n",
    "for door in filter(lambda x: isinstance(items_objects[x], Door), items_objects):\n",
    "    room1 = items_objects[door].room1\n",
    "    room2 = items_objects[door].room2\n",
    "    room1.connections.append(room2)\n",
    "    room2.connections.append(room1)\n",
    "\n",
    "    # add doors as items to rooms\n",
    "    room1.items.append(items_objects[door])\n",
    "    room2.items.append(items_objects[door])\n",
    "\n",
    "# create player and set starting room\n",
    "player = Player()\n",
    "player.current_room = rooms_objects[\"Library\"]    # GFM -> change to start in Library"
   ]
  },
  {
   "cell_type": "code",
   "execution_count": 8,
   "metadata": {},
   "outputs": [
    {
     "name": "stdout",
     "output_type": "stream",
     "text": [
      "Welcome. This is what you have to do. Everything wirtte in '' can be interacted with\n"
     ]
    }
   ],
   "source": [
    "# start game\n",
    "print(\"Welcome. This is what you have to do. Everything wirtte in '' can be interacted with\")\n",
    "\n",
    "# while not exited:\n",
    "while not player.escaped:\n",
    "    answer = input(\"What should i do?\")\n",
    "    if answer == \"quit\":\n",
    "        break\n",
    "    # look around\n",
    "    elif answer == \"scout\":\n",
    "        player.current_room.describe_room()\n",
    "\n",
    "    # Item interaction\n",
    "    elif answer in items_objects.keys():\n",
    "        if type(items_objects[answer]) is Door:\n",
    "            # check if it is a valid connection\n",
    "            if items_objects[answer] not in player.current_room.items:\n",
    "                print(\"Invalied Move\")\n",
    "            else:\n",
    "                # move player to answer room\n",
    "                player.move(items_objects[answer])\n",
    "    \n",
    "    elif answer == \"inspect\":\n",
    "        print(\"What item would you like to inspect?\")\n",
    "        # show what can be inspected\n",
    "        for item in player.current_room.items:\n",
    "            print(item)\n",
    "        inspect_item = input(\"What item would you like to inspect?\")\n",
    "        item = items_objects[inspect_item].inspect()\n",
    "\n",
    "        # needs to be adjusted to append proper items and not doors\n",
    "        if type(item) == Door:\n",
    "            pickup = input(\"Do you want to pickup this item? ('Y' | 'N')\")\n",
    "            if pickup == 'Y':\n",
    "                player.inventory.append(item)\n",
    "                print(\"Item added to inventory\")\n",
    "            else:\n",
    "                print(\"Item not picked up\")\n",
    "        \n",
    "    elif answer in items:\n",
    "        pass\n",
    "    \n",
    "    elif answer == \"inventory\":\n",
    "        player.show_inventory()\n",
    "\n",
    "    else:\n",
    "        print(\"This command does not exist\")\n",
    "\n",
    "\n",
    "    \"\"\"MB: General function inspect: \"\"\"\n",
    "    \"\"\"MB: Function pickup and remove item from room\"\"\"\n",
    "    \"\"\"MB: Inventory function: show inventory\"\"\"\n",
    "    \"\"\"MB: function key dining room\"\"\"\n",
    "        # if player says door\n",
    "        # check if door is accessible (is it connected to the current door)\n",
    "        # check if door is open\n",
    "            # if player has key\n",
    "                #  go through door\n",
    "            # else say door is closed\n",
    "\n",
    "\n",
    "    # Item interaction"
   ]
  },
  {
   "cell_type": "code",
   "execution_count": null,
   "metadata": {},
   "outputs": [
    {
     "data": {
      "text/plain": [
       "[Item(name='Flashlight'), Door(name='Mystic Door'), Door(name='Squeaky Door')]"
      ]
     },
     "execution_count": 33,
     "metadata": {},
     "output_type": "execute_result"
    }
   ],
   "source": [
    "player.current_room.items"
   ]
  }
 ],
 "metadata": {
  "kernelspec": {
   "display_name": "datasci_env",
   "language": "python",
   "name": "python3"
  },
  "language_info": {
   "codemirror_mode": {
    "name": "ipython",
    "version": 3
   },
   "file_extension": ".py",
   "mimetype": "text/x-python",
   "name": "python",
   "nbconvert_exporter": "python",
   "pygments_lexer": "ipython3",
   "version": "3.8.20"
  }
 },
 "nbformat": 4,
 "nbformat_minor": 2
}
